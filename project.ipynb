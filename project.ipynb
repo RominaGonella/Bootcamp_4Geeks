{
 "cells": [
  {
   "cell_type": "markdown",
   "id": "c4e52ee5",
   "metadata": {},
   "source": [
    "## The dataset\n",
    "\n",
    "This is a real dataset and it was downloaded using web scraping techniques. The data contains registers from fotocasa which is one of the most popular websites of real estate in Spain. Please, do not do this (web scraping) unless it is for academic purposes.\n",
    "\n",
    "The dataset was downloaded a few years ago by Henry Navarro and In no case were economic returns obtained from it.\n",
    "\n",
    "It contains thousands of data from real homes published on the web www.fotocasa.com. Your goal is to extract as much information as possible with the knowledge you have so far about data science, for example what is the most expensive home in the entire dataset?\n",
    "\n",
    "Let's start with precisely that question... Good luck!\n"
   ]
  },
  {
   "cell_type": "markdown",
   "id": "dd97255d",
   "metadata": {},
   "source": [
    "#### Read the dataset assets/real_estate.csv and try to visualize the table (★☆☆)"
   ]
  },
  {
   "cell_type": "code",
   "execution_count": 1,
   "id": "4b93d9c8",
   "metadata": {},
   "outputs": [
    {
     "name": "stdout",
     "output_type": "stream",
     "text": [
      "<class 'pandas.core.frame.DataFrame'>\n",
      "RangeIndex: 15335 entries, 0 to 15334\n",
      "Data columns (total 37 columns):\n",
      " #   Column            Non-Null Count  Dtype  \n",
      "---  ------            --------------  -----  \n",
      " 0   Unnamed: 0        15335 non-null  int64  \n",
      " 1   id_realEstates    15335 non-null  int64  \n",
      " 2   isNew             15335 non-null  bool   \n",
      " 3   realEstate_name   15325 non-null  object \n",
      " 4   phone_realEstate  14541 non-null  float64\n",
      " 5   url_inmueble      15335 non-null  object \n",
      " 6   rooms             14982 non-null  float64\n",
      " 7   bathrooms         14990 non-null  float64\n",
      " 8   surface           14085 non-null  float64\n",
      " 9   price             15335 non-null  int64  \n",
      " 10  date              15335 non-null  object \n",
      " 11  description       15193 non-null  object \n",
      " 12  address           15335 non-null  object \n",
      " 13  country           15335 non-null  object \n",
      " 14  level1            15335 non-null  object \n",
      " 15  level2            15335 non-null  object \n",
      " 16  level3            15335 non-null  object \n",
      " 17  level4            8692 non-null   object \n",
      " 18  level5            15335 non-null  object \n",
      " 19  level6            708 non-null    object \n",
      " 20  level7            13058 non-null  object \n",
      " 21  level8            6756 non-null   object \n",
      " 22  upperLevel        15335 non-null  object \n",
      " 23  countryId         15335 non-null  int64  \n",
      " 24  level1Id          15335 non-null  int64  \n",
      " 25  level2Id          15335 non-null  int64  \n",
      " 26  level3Id          15335 non-null  int64  \n",
      " 27  level4Id          15335 non-null  int64  \n",
      " 28  level5Id          15335 non-null  int64  \n",
      " 29  level6Id          15335 non-null  int64  \n",
      " 30  level7Id          15335 non-null  int64  \n",
      " 31  level8Id          15335 non-null  int64  \n",
      " 32  accuracy          15335 non-null  int64  \n",
      " 33  latitude          15335 non-null  float64\n",
      " 34  longitude         15335 non-null  float64\n",
      " 35  zipCode           0 non-null      float64\n",
      " 36  customZone        0 non-null      float64\n",
      "dtypes: bool(1), float64(8), int64(13), object(15)\n",
      "memory usage: 4.2+ MB\n",
      "None\n"
     ]
    }
   ],
   "source": [
    "import pandas as pd\n",
    "data = pd.read_csv('assets/real_estate.csv', sep = ';', decimal = ',')\n",
    "print(data.info())\n",
    "# data.style\n",
    "# data frame con 37 variables (incluyendo Unnamed: 0) y 15335 observaciones"
   ]
  },
  {
   "cell_type": "markdown",
   "id": "40631cd6",
   "metadata": {},
   "source": [
    "#### What is the most expensive home in the dataset? (★☆☆)"
   ]
  },
  {
   "cell_type": "code",
   "execution_count": 2,
   "id": "8a758bcf",
   "metadata": {},
   "outputs": [
    {
     "name": "stdout",
     "output_type": "stream",
     "text": [
      "8500000\n",
      "13110\n",
      "132042636\n"
     ]
    }
   ],
   "source": [
    "print(data['price'].max()) # precio mas alto: 8500000\n",
    "print(data['price'].argmax()) # fila del precio mas alto: 13110\n",
    "print(data['id_realEstates'][13110]) # id del precio mas alto: 132042636"
   ]
  },
  {
   "cell_type": "markdown",
   "id": "0a708990",
   "metadata": {},
   "source": [
    "#### What is cheapest home in the dataset? (★☆☆)"
   ]
  },
  {
   "cell_type": "code",
   "execution_count": 3,
   "id": "477e01f4",
   "metadata": {},
   "outputs": [
    {
     "name": "stdout",
     "output_type": "stream",
     "text": [
      "0\n",
      "600\n",
      "7491    153977752\n",
      "Name: id_realEstates, dtype: int64\n"
     ]
    }
   ],
   "source": [
    "print(data['price'].min()) # precio mas bajo: 0\n",
    "print(data['price'][data['price'] > 0].min()) # precio mas bajo sin el cero: 600\n",
    "print(data['id_realEstates'][data['price'] == 600]) # id del precio mas bajo sin el cero: 153977752"
   ]
  },
  {
   "cell_type": "markdown",
   "id": "0b16cd77",
   "metadata": {},
   "source": [
    "#### What is the biggest and the smallest home in the dataset? (★☆☆)"
   ]
  },
  {
   "cell_type": "code",
   "execution_count": 4,
   "id": "4d9b5975",
   "metadata": {},
   "outputs": [
    {
     "name": "stdout",
     "output_type": "stream",
     "text": [
      "15.0\n",
      "1\n",
      "152817874\n",
      "249000.0\n",
      "1\n",
      "153936192\n"
     ]
    }
   ],
   "source": [
    "print(data['surface'].min()) # superficie minima: 15\n",
    "print(sum(data['surface'] == data['surface'].min())) # solo 1 casa con sup = 15\n",
    "print(data['id_realEstates'][data['surface'].argmin()]) # id de la de superficie minima: 152817874\n",
    "print(data['surface'].max()) # superficie maxima: 249000\n",
    "print(sum(data['surface'] == data['surface'].max())) # solo 1 casa con sup = 249000\n",
    "print(data['id_realEstates'][data['surface'].argmax()]) # id de la de superficie maxima: 153936192\n"
   ]
  },
  {
   "cell_type": "markdown",
   "id": "782d4c77",
   "metadata": {},
   "source": [
    "#### How many populations (level5) the dataset contains? (★☆☆)"
   ]
  },
  {
   "cell_type": "code",
   "execution_count": 5,
   "id": "5dbe1a08",
   "metadata": {},
   "outputs": [
    {
     "name": "stdout",
     "output_type": "stream",
     "text": [
      "15335\n",
      "0\n"
     ]
    }
   ],
   "source": [
    "print(data['level5'].size) # 15335\n",
    "print(data['level5'].isnull().sum()) # no hay valores nulos\n"
   ]
  },
  {
   "cell_type": "markdown",
   "id": "48d48f01",
   "metadata": {},
   "source": [
    "#### Does the dataset contain NAs? (★☆☆)\n"
   ]
  },
  {
   "cell_type": "code",
   "execution_count": 6,
   "id": "3ed233e7",
   "metadata": {},
   "outputs": [
    {
     "data": {
      "text/plain": [
       "Unnamed: 0              0\n",
       "id_realEstates          0\n",
       "isNew                   0\n",
       "realEstate_name        10\n",
       "phone_realEstate      794\n",
       "url_inmueble            0\n",
       "rooms                 353\n",
       "bathrooms             345\n",
       "surface              1250\n",
       "price                   0\n",
       "date                    0\n",
       "description           142\n",
       "address                 0\n",
       "country                 0\n",
       "level1                  0\n",
       "level2                  0\n",
       "level3                  0\n",
       "level4               6643\n",
       "level5                  0\n",
       "level6              14627\n",
       "level7               2277\n",
       "level8               8579\n",
       "upperLevel              0\n",
       "countryId               0\n",
       "level1Id                0\n",
       "level2Id                0\n",
       "level3Id                0\n",
       "level4Id                0\n",
       "level5Id                0\n",
       "level6Id                0\n",
       "level7Id                0\n",
       "level8Id                0\n",
       "accuracy                0\n",
       "latitude                0\n",
       "longitude               0\n",
       "zipCode             15335\n",
       "customZone          15335\n",
       "dtype: int64"
      ]
     },
     "execution_count": 6,
     "metadata": {},
     "output_type": "execute_result"
    }
   ],
   "source": [
    "data.isna().sum() # si hay en varias variables"
   ]
  },
  {
   "cell_type": "markdown",
   "id": "4fa39382",
   "metadata": {},
   "source": [
    "#### Delete the NAs of the dataset, if applicable (★★☆)"
   ]
  },
  {
   "cell_type": "code",
   "execution_count": 7,
   "id": "c97757ec",
   "metadata": {},
   "outputs": [
    {
     "name": "stdout",
     "output_type": "stream",
     "text": [
      "(136, 2)\n",
      "(11025, 32)\n"
     ]
    }
   ],
   "source": [
    "# algunas columnas tienen todas sus entradas null o NA, por eso primero las elimino\n",
    "data2 = data.dropna(axis = 1, how = 'all')\n",
    "# level6 tiene casi todo null, la elimino\n",
    "data2 = data2.dropna(axis = 1, thresh = 1000) # elimino columnas que tengan menos de 1000 entradas no nulas, solo level6\n",
    "# me fijo que pasa con level4 y level8, que tambien tienen muchos null\n",
    "data3 = data2.filter(axis = 1, items = ('level4','level8')).dropna()\n",
    "print(data3.shape) # solamente hay 136 items con level4 y level8 no nulos, elimino ambas variables\n",
    "# elimino level4 y level8\n",
    "data2 = data2.dropna(axis = 1, thresh = 8700)\n",
    "# ahora si elimino filas con algun null\n",
    "data2 = data2.dropna()\n",
    "print(data2.shape) # se eliminaron 4310 filas y 3 columnas\n",
    "\n",
    "# el nuevo data frame es data2!!\n"
   ]
  },
  {
   "cell_type": "markdown",
   "id": "0e5f76de",
   "metadata": {},
   "source": [
    "#### What is the mean of prices in the population (level5) of \"Arroyomolinos (Madrid)\"? (★★☆)"
   ]
  },
  {
   "cell_type": "code",
   "execution_count": 8,
   "id": "327f7adb",
   "metadata": {},
   "outputs": [
    {
     "name": "stdout",
     "output_type": "stream",
     "text": [
      "(110, 32)\n",
      "298780.2181818182\n"
     ]
    }
   ],
   "source": [
    "data_aux  = data2[data2['level5'] == 'Arroyomolinos (Madrid)']\n",
    "print(data_aux.shape) # 110 items con esa caracteristica\n",
    "print(data_aux['price'].mean()) # precio medio: 298780.2181818182"
   ]
  },
  {
   "cell_type": "markdown",
   "id": "89b548e3",
   "metadata": {},
   "source": [
    "#### Plot the histogram of prices for the population (level5) of \"Arroyomolinos (Madrid)\" and explain what you observe (★★☆)"
   ]
  },
  {
   "cell_type": "code",
   "execution_count": 9,
   "id": "2ba51bf7",
   "metadata": {},
   "outputs": [
    {
     "data": {
      "text/plain": [
       "(array([15., 16., 24., 17., 22., 10.,  2.,  2.,  0.,  2.]),\n",
       " array([165338. , 206804.2, 248270.4, 289736.6, 331202.8, 372669. ,\n",
       "        414135.2, 455601.4, 497067.6, 538533.8, 580000. ]),\n",
       " <BarContainer object of 10 artists>)"
      ]
     },
     "execution_count": 9,
     "metadata": {},
     "output_type": "execute_result"
    },
    {
     "data": {
      "image/png": "[encoded data removed]",
      "text/plain": [
       "<Figure size 432x288 with 1 Axes>"
      ]
     },
     "metadata": {
      "needs_background": "light"
     },
     "output_type": "display_data"
    }
   ],
   "source": [
    "import matplotlib.pyplot as plt\n",
    "plt.hist(data_aux['price'])\n",
    "# el precio se concentra entre 200000 y 400000 aprox\n",
    "# hay unos pocos valores mayores a 400000 \n"
   ]
  },
  {
   "cell_type": "markdown",
   "id": "c86dc493",
   "metadata": {},
   "source": [
    "#### Now let's work with the \"south belt\" of madrid. Make a subsetting that contains the following populations (level5): \"Fuenlabrada\",\"Leganés\",\"Getafe\",\"Alcorcón\" (★★☆) "
   ]
  },
  {
   "cell_type": "code",
   "execution_count": 10,
   "id": "5280d0cb",
   "metadata": {},
   "outputs": [
    {
     "name": "stdout",
     "output_type": "stream",
     "text": [
      "Fuenlabrada    182\n",
      "Leganés        173\n",
      "Getafe         220\n",
      "Alcorcón       154\n",
      "Name: level5, dtype: int64\n",
      "Getafe         220\n",
      "Fuenlabrada    182\n",
      "Leganés        173\n",
      "Alcorcón       154\n",
      "Name: level5, dtype: int64\n",
      "(729, 32)\n"
     ]
    }
   ],
   "source": [
    "labs = ['Fuenlabrada','Leganés','Getafe','Alcorcón']\n",
    "# para chequear frecuencias\n",
    "aux = data2['level5'].value_counts()\n",
    "print(aux[labs])\n",
    "data3 = data2[data2['level5'].isin(labs)]\n",
    "# chequeo que sean las mismas cantidades\n",
    "print(data3['level5'].value_counts())\n",
    "print(data3.shape)"
   ]
  },
  {
   "cell_type": "markdown",
   "id": "090a6a3e",
   "metadata": {},
   "source": [
    "#### Make a bar plot of the median of prices (★★★) "
   ]
  },
  {
   "cell_type": "code",
   "execution_count": 11,
   "id": "68aec11c",
   "metadata": {},
   "outputs": [
    {
     "data": {
      "text/plain": [
       "<BarContainer object of 4 artists>"
      ]
     },
     "execution_count": 11,
     "metadata": {},
     "output_type": "execute_result"
    },
    {
     "data": {
      "image/png": "[encoded data removed]",
      "text/plain": [
       "<Figure size 432x288 with 1 Axes>"
      ]
     },
     "metadata": {
      "needs_background": "light"
     },
     "output_type": "display_data"
    }
   ],
   "source": [
    "median_level5 = data3.groupby('level5').median()\n",
    "type(median_level5)\n",
    "plt.bar(median_level5.index, median_level5['price'])"
   ]
  },
  {
   "cell_type": "markdown",
   "id": "18f67373",
   "metadata": {},
   "source": [
    "#### Calculate the sample mean and variance of the variables: price, rooms, surface area and bathrooms (★★★) "
   ]
  },
  {
   "cell_type": "code",
   "execution_count": 12,
   "id": "8d068061",
   "metadata": {},
   "outputs": [
    {
     "name": "stdout",
     "output_type": "stream",
     "text": [
      "<class 'pandas.core.frame.DataFrame'>\n",
      "Int64Index: 729 entries, 3 to 15325\n",
      "Data columns (total 4 columns):\n",
      " #   Column     Non-Null Count  Dtype  \n",
      "---  ------     --------------  -----  \n",
      " 0   price      729 non-null    int64  \n",
      " 1   rooms      729 non-null    float64\n",
      " 2   surface    729 non-null    float64\n",
      " 3   bathrooms  729 non-null    float64\n",
      "dtypes: float64(3), int64(1)\n",
      "memory usage: 28.5 KB\n",
      "None\n",
      "price        220590.636488\n",
      "rooms             3.001372\n",
      "surface         110.102881\n",
      "bathrooms         1.615912\n",
      "dtype: float64\n",
      "price        1.529399e+10\n",
      "rooms        7.101630e-01\n",
      "surface      4.212972e+03\n",
      "bathrooms    5.555706e-01\n",
      "dtype: float64\n"
     ]
    }
   ],
   "source": [
    "aux = data3[['price','rooms','surface','bathrooms']]\n",
    "print(aux.info()) # verifico clases\n",
    "print(aux.mean())\n",
    "print(aux.var())\n"
   ]
  },
  {
   "cell_type": "markdown",
   "id": "95cfde61",
   "metadata": {},
   "source": [
    "#### What is the most expensive home of each population? (★★☆) "
   ]
  },
  {
   "cell_type": "code",
   "execution_count": 13,
   "id": "1c29f78c",
   "metadata": {},
   "outputs": [
    {
     "name": "stdout",
     "output_type": "stream",
     "text": [
      "Alcorcón:5585    153275915\n",
      "Name: id_realEstates, dtype: int64\n",
      "Fuenlabrada:11561    153660921\n",
      "Name: id_realEstates, dtype: int64\n",
      "Getafe:2881    151105544\n",
      "Name: id_realEstates, dtype: int64\n",
      "Leganés:10412    152251506\n",
      "Name: id_realEstates, dtype: int64\n"
     ]
    }
   ],
   "source": [
    "max_level5 = data3.groupby('level5').max()\n",
    "max_price = max_level5['price'] # son los precios maximos por level5\n",
    "# abajo cuales son las casas de mayor precio por level5\n",
    "for i in range(len(max_price)):\n",
    "    print(str(max_price.index[i])+':'+str(data3['id_realEstates'][(data3['level5'] == max_price.index[i]) & (data3['price'] == max_price[i])]))"
   ]
  },
  {
   "cell_type": "markdown",
   "id": "ea67579b",
   "metadata": {},
   "source": [
    "#### Normalize the variable of prices for each population and plot the 4 histograms in the same plot (★★★) "
   ]
  },
  {
   "cell_type": "code",
   "execution_count": 14,
   "id": "385ad99c",
   "metadata": {},
   "outputs": [
    {
     "data": {
      "image/png": "[encoded data removed]",
      "text/plain": [
       "<Figure size 432x288 with 4 Axes>"
      ]
     },
     "metadata": {
      "needs_background": "light"
     },
     "output_type": "display_data"
    }
   ],
   "source": [
    "import pandas as pd\n",
    "fig, ax = plt.subplots(2, 2, sharex = True, sharey = True)\n",
    "ax1 = pd.Series([0,0,1,1])\n",
    "ax2 = pd.Series([0,1,0,1])\n",
    "for i in range(len(labs)):\n",
    "    price = data3['price'][data3['level5']==labs[i]]\n",
    "    price_norm = (price - price.mean())/price.std()\n",
    "    ax[ax1[i],ax2[i]].hist(price_norm)\n",
    "plt.show()"
   ]
  },
  {
   "cell_type": "markdown",
   "id": "2ec1bd5c",
   "metadata": {},
   "source": [
    "#### Make a plot of the coordinates (lat and long) of the south belt of Madrid by color of each population (★★★★) \n",
    "This is a extremely hard exercise and we highly recommend to do it at the end of everything"
   ]
  },
  {
   "cell_type": "code",
   "execution_count": 15,
   "id": "312aac99",
   "metadata": {},
   "outputs": [
    {
     "data": {
      "application/vnd.jupyter.widget-view+json": {
       "model_id": "23583f65459140658dd08035d91cd8b7",
       "version_major": 2,
       "version_minor": 0
      },
      "text/plain": [
       "Map(center=[60, -2.2], controls=(ZoomControl(options=['position', 'zoom_in_text', 'zoom_in_title', 'zoom_out_t…"
      ]
     },
     "metadata": {},
     "output_type": "display_data"
    }
   ],
   "source": [
    "# Run in console the following command before run the rest of code:\n",
    "# jupyter nbextension enable --py --sys-prefix ipyleaflet\n",
    "\n",
    "from ipyleaflet import Map, basemaps\n",
    "\n",
    "# Map centred on (60 degrees latitude et -2.2 degrees longitude)\n",
    "# Latitude, longitude\n",
    "map = Map(center = (60, -2.2), zoom = 2, min_zoom = 1, max_zoom = 20, \n",
    "    basemap=basemaps.Stamen.Terrain)\n",
    "map"
   ]
  },
  {
   "cell_type": "code",
   "execution_count": null,
   "id": "f7931ec0",
   "metadata": {},
   "outputs": [],
   "source": [
    "### trabajo con coordenadas\n",
    "\n",
    "#print(data3.head()) # verifico que exista latitud y longitud\n",
    "#data3[['longitude', 'latitude']].describe() # verifico valores de las coordenadas\n",
    "#print(sum(data3['longitude'] == 0)) # 10 casos con longitud 0\n",
    "#print(sum(data3['latitude'] == 0)) # 10 casos con latitud 0\n",
    "data3b = data3[data3['latitude'] != 0] # creo nuevo data frame sin puntos en (0,0)\n",
    "data3b[['longitude', 'latitude']].describe() # no hay mas ceros\n",
    "\n",
    "### busco coordenadas promedio para centrar mapa\n",
    "\n",
    "medias_coord = data3b[['longitude', 'latitude']].mean()\n",
    "print(medias_coord)\n",
    "\n",
    "### mapeo centrando en esas coordenadas\n",
    "\n",
    "#map = Map(center = (medias_coord[0], medias_coord[1]), zoom = 2, \n",
    "#    basemap=basemaps.Stamen.Terrain)\n",
    "#map\n",
    "\n",
    "## grafico definiendo un color para cada level5\n",
    "#aux = data3b['level5'].map({'Fuenlabrada':'red','Leganés':'blue','Getafe':'green','Alcorcón':'pink'})\n",
    "#data3b.plot(x=\"longitude\", y=\"latitude\", kind=\"scatter\",c=aux)\n",
    "\n"
   ]
  },
  {
   "cell_type": "markdown",
   "id": "b22874b7",
   "metadata": {},
   "source": [
    "#### What can you say about the price per square meter between the towns of Getafe and Alcorcón?"
   ]
  },
  {
   "cell_type": "code",
   "execution_count": null,
   "id": "e0ef506b",
   "metadata": {},
   "outputs": [],
   "source": []
  },
  {
   "cell_type": "markdown",
   "id": "a4376b3f",
   "metadata": {},
   "source": [
    "#### Reload the data, is the average of \"Valdemorillo\" and \"Galapagar\" prices the same?"
   ]
  },
  {
   "cell_type": "code",
   "execution_count": null,
   "id": "37dbaf65",
   "metadata": {},
   "outputs": [],
   "source": []
  },
  {
   "cell_type": "markdown",
   "id": "b6af45ec",
   "metadata": {},
   "source": [
    "#### What happens if we do the same analysis for price/m2 (★★☆) "
   ]
  },
  {
   "cell_type": "code",
   "execution_count": null,
   "id": "8231d73e",
   "metadata": {},
   "outputs": [],
   "source": []
  },
  {
   "cell_type": "markdown",
   "id": "2d40e202",
   "metadata": {},
   "source": [
    "#### Could you say there is a relation between surface and price? (★★☆) \n",
    "Hint: make a scatter plot."
   ]
  },
  {
   "cell_type": "code",
   "execution_count": null,
   "id": "405462e1",
   "metadata": {},
   "outputs": [],
   "source": []
  },
  {
   "cell_type": "markdown",
   "id": "3275db77",
   "metadata": {},
   "source": [
    "#### Make the same plot for 4 different populations (level5) and rearrange them on the same graph? (★★☆) \n",
    "Hint: make a scatter plot of each population using subplots."
   ]
  },
  {
   "cell_type": "code",
   "execution_count": null,
   "id": "e08292ff",
   "metadata": {},
   "outputs": [],
   "source": []
  },
  {
   "cell_type": "markdown",
   "id": "522c6bd9",
   "metadata": {},
   "source": [
    "#### How many  real estate agencies the dataset contains? (★★☆) "
   ]
  },
  {
   "cell_type": "code",
   "execution_count": null,
   "id": "014ec6c8",
   "metadata": {},
   "outputs": [],
   "source": []
  },
  {
   "cell_type": "markdown",
   "id": "899a101e",
   "metadata": {},
   "source": [
    "#### What is the population (level 5) that contains the most houses? (★★☆) "
   ]
  },
  {
   "cell_type": "code",
   "execution_count": null,
   "id": "9e8b34ba",
   "metadata": {},
   "outputs": [],
   "source": []
  }
 ],
 "metadata": {
  "kernelspec": {
   "display_name": "Python 3.8.13 64-bit ('3.8.13')",
   "language": "python",
   "name": "python3"
  },
  "language_info": {
   "codemirror_mode": {
    "name": "ipython",
    "version": 3
   },
   "file_extension": ".py",
   "mimetype": "text/x-python",
   "name": "python",
   "nbconvert_exporter": "python",
   "pygments_lexer": "ipython3",
   "version": "3.8.13"
  },
  "vscode": {
   "interpreter": {
    "hash": "110cc1dee26208153f2972f08a2ad52b6a56238dc66d48e87fb757ef2996db56"
   }
  }
 },
 "nbformat": 4,
 "nbformat_minor": 5
}
