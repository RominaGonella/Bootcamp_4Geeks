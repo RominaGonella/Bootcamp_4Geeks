{
 "cells": [
  {
   "cell_type": "markdown",
   "id": "c4e52ee5",
   "metadata": {},
   "source": [
    "## The dataset\n",
    "\n",
    "This is a real dataset and it was downloaded using web scraping techniques. The data contains registers from fotocasa which is one of the most popular websites of real estate in Spain. Please, do not do this (web scraping) unless it is for academic purposes.\n",
    "\n",
    "The dataset was downloaded a few years ago by Henry Navarro and In no case were economic returns obtained from it.\n",
    "\n",
    "It contains thousands of data from real homes published on the web www.fotocasa.com. Your goal is to extract as much information as possible with the knowledge you have so far about data science, for example what is the most expensive home in the entire dataset?\n",
    "\n",
    "Let's start with precisely that question... Good luck!\n"
   ]
  },
  {
   "cell_type": "markdown",
   "id": "dd97255d",
   "metadata": {},
   "source": [
    "#### Read the dataset assets/real_estate.csv and try to visualize the table (★☆☆)"
   ]
  },
  {
   "cell_type": "code",
   "execution_count": null,
   "id": "4b93d9c8",
   "metadata": {},
   "outputs": [],
   "source": [
    "import pandas as pd\n",
    "data = pd.read_csv('assets/real_estate.csv', sep = ';', decimal = ',')\n",
    "print(data.info())\n",
    "# data.style\n",
    "# data frame con 37 variables (incluyendo Unnamed: 0) y 15335 observaciones"
   ]
  },
  {
   "cell_type": "markdown",
   "id": "40631cd6",
   "metadata": {},
   "source": [
    "#### What is the most expensive home in the dataset? (★☆☆)"
   ]
  },
  {
   "cell_type": "code",
   "execution_count": null,
   "id": "8a758bcf",
   "metadata": {},
   "outputs": [],
   "source": [
    "print(data['price'].max()) # precio mas alto: 8500000\n",
    "print(data['price'].argmax()) # fila del precio mas alto: 13110\n",
    "print(data['id_realEstates'][13110]) # id del precio mas alto: 132042636"
   ]
  },
  {
   "cell_type": "markdown",
   "id": "0a708990",
   "metadata": {},
   "source": [
    "#### What is cheapest home in the dataset? (★☆☆)"
   ]
  },
  {
   "cell_type": "code",
   "execution_count": null,
   "id": "477e01f4",
   "metadata": {},
   "outputs": [],
   "source": [
    "print(data['price'].min()) # precio mas bajo: 0\n",
    "print(data['price'][data['price'] > 0].min()) # precio mas bajo sin el cero: 600\n",
    "print(data['id_realEstates'][data['price'] == 600]) # id del precio mas bajo sin el cero: 153977752"
   ]
  },
  {
   "cell_type": "markdown",
   "id": "0b16cd77",
   "metadata": {},
   "source": [
    "#### What is the biggest and the smallest home in the dataset? (★☆☆)"
   ]
  },
  {
   "cell_type": "code",
   "execution_count": null,
   "id": "4d9b5975",
   "metadata": {},
   "outputs": [],
   "source": [
    "print(data['surface'].min()) # superficie minima: 15\n",
    "print(sum(data['surface'] == data['surface'].min())) # solo 1 casa con sup = 15\n",
    "print(data['id_realEstates'][data['surface'].argmin()]) # id de la de superficie minima: 152817874\n",
    "print(data['surface'].max()) # superficie maxima: 249000\n",
    "print(sum(data['surface'] == data['surface'].max())) # solo 1 casa con sup = 249000\n",
    "print(data['id_realEstates'][data['surface'].argmax()]) # id de la de superficie maxima: 153936192\n"
   ]
  },
  {
   "cell_type": "markdown",
   "id": "782d4c77",
   "metadata": {},
   "source": [
    "#### How many populations (level5) the dataset contains? (★☆☆)"
   ]
  },
  {
   "cell_type": "code",
   "execution_count": null,
   "id": "5dbe1a08",
   "metadata": {},
   "outputs": [],
   "source": [
    "print(data['level5'].size) # 15335\n",
    "print(data['level5'].isnull().sum()) # no hay valores nulos\n"
   ]
  },
  {
   "cell_type": "markdown",
   "id": "48d48f01",
   "metadata": {},
   "source": [
    "#### Does the dataset contain NAs? (★☆☆)\n"
   ]
  },
  {
   "cell_type": "code",
   "execution_count": null,
   "id": "3ed233e7",
   "metadata": {},
   "outputs": [],
   "source": [
    "data.isna().sum() # si hay en varias variables"
   ]
  },
  {
   "cell_type": "markdown",
   "id": "4fa39382",
   "metadata": {},
   "source": [
    "#### Delete the NAs of the dataset, if applicable (★★☆)"
   ]
  },
  {
   "cell_type": "code",
   "execution_count": null,
   "id": "c97757ec",
   "metadata": {},
   "outputs": [],
   "source": [
    "# algunas columnas tienen todas sus entradas null o NA, por eso primero las elimino\n",
    "data2 = data.dropna(axis = 1, how = 'all')\n",
    "# level6 tiene casi todo null, la elimino\n",
    "data2 = data2.dropna(axis = 1, thresh = 1000) # elimino columnas que tengan menos de 1000 entradas no nulas, solo level6\n",
    "# me fijo que pasa con level4 y level8, que tambien tienen muchos null\n",
    "data3 = data2.filter(axis = 1, items = ('level4','level8')).dropna()\n",
    "print(data3.shape) # solamente hay 136 items con level4 y level8 no nulos, elimino ambas variables\n",
    "# elimino level4 y level8\n",
    "data2 = data2.dropna(axis = 1, thresh = 8700)\n",
    "# ahora si elimino filas con algun null\n",
    "data2 = data2.dropna()\n",
    "print(data2.shape) # se eliminaron 4310 filas y 3 columnas\n",
    "\n",
    "# el nuevo data frame es data2!!\n"
   ]
  },
  {
   "cell_type": "markdown",
   "id": "0e5f76de",
   "metadata": {},
   "source": [
    "#### What is the mean of prices in the population (level5) of \"Arroyomolinos (Madrid)\"? (★★☆)"
   ]
  },
  {
   "cell_type": "code",
   "execution_count": null,
   "id": "327f7adb",
   "metadata": {},
   "outputs": [],
   "source": [
    "data_aux  = data2[data2['level5'] == 'Arroyomolinos (Madrid)']\n",
    "print(data_aux.shape) # 110 items con esa caracteristica\n",
    "print(data_aux['price'].mean()) # precio medio: 298780.2181818182"
   ]
  },
  {
   "cell_type": "markdown",
   "id": "89b548e3",
   "metadata": {},
   "source": [
    "#### Plot the histogram of prices for the population (level5) of \"Arroyomolinos (Madrid)\" and explain what you observe (★★☆)"
   ]
  },
  {
   "cell_type": "code",
   "execution_count": null,
   "id": "2ba51bf7",
   "metadata": {},
   "outputs": [],
   "source": [
    "import matplotlib.pyplot as plt\n",
    "plt.hist(data_aux['price'])\n",
    "# el precio se concentra entre 200000 y 400000 aprox\n",
    "# hay unos pocos valores mayores a 400000 \n"
   ]
  },
  {
   "cell_type": "markdown",
   "id": "c86dc493",
   "metadata": {},
   "source": [
    "#### Now let's work with the \"south belt\" of madrid. Make a subsetting that contains the following populations (level5): \"Fuenlabrada\",\"Leganés\",\"Getafe\",\"Alcorcón\" (★★☆) "
   ]
  },
  {
   "cell_type": "code",
   "execution_count": null,
   "id": "5280d0cb",
   "metadata": {},
   "outputs": [],
   "source": [
    "labs = ['Fuenlabrada','Leganés','Getafe','Alcorcón']\n",
    "# para chequear frecuencias\n",
    "aux = data2['level5'].value_counts()\n",
    "print(aux[labs])\n",
    "data3 = data2[data2['level5'].isin(labs)]\n",
    "# chequeo que sean las mismas cantidades\n",
    "print(data3['level5'].value_counts())\n",
    "print(data3.shape)"
   ]
  },
  {
   "cell_type": "markdown",
   "id": "090a6a3e",
   "metadata": {},
   "source": [
    "#### Make a bar plot of the median of prices (★★★) "
   ]
  },
  {
   "cell_type": "code",
   "execution_count": null,
   "id": "68aec11c",
   "metadata": {},
   "outputs": [],
   "source": [
    "median_level5 = data3.groupby('level5').median()\n",
    "type(median_level5)\n",
    "plt.bar(median_level5.index, median_level5['price'])"
   ]
  },
  {
   "cell_type": "markdown",
   "id": "18f67373",
   "metadata": {},
   "source": [
    "#### Calculate the sample mean and variance of the variables: price, rooms, surface area and bathrooms (★★★) "
   ]
  },
  {
   "cell_type": "code",
   "execution_count": null,
   "id": "8d068061",
   "metadata": {},
   "outputs": [],
   "source": [
    "aux = data3[['price','rooms','surface','bathrooms']]\n",
    "print(aux.info()) # verifico clases\n",
    "print(aux.mean())\n",
    "print(aux.var())\n"
   ]
  },
  {
   "cell_type": "markdown",
   "id": "95cfde61",
   "metadata": {},
   "source": [
    "#### What is the most expensive home of each population? (★★☆) "
   ]
  },
  {
   "cell_type": "code",
   "execution_count": null,
   "id": "1c29f78c",
   "metadata": {},
   "outputs": [],
   "source": [
    "max_level5 = data3.groupby('level5').max()\n",
    "max_price = max_level5['price'] # son los precios maximos por level5\n",
    "# abajo cuales son las casas de mayor precio por level5\n",
    "for i in range(len(max_price)):\n",
    "    print(str(max_price.index[i])+':'+str(data3['id_realEstates'][(data3['level5'] == max_price.index[i]) & (data3['price'] == max_price[i])]))"
   ]
  },
  {
   "cell_type": "markdown",
   "id": "ea67579b",
   "metadata": {},
   "source": [
    "#### Normalize the variable of prices for each population and plot the 4 histograms in the same plot (★★★) "
   ]
  },
  {
   "cell_type": "code",
   "execution_count": null,
   "id": "385ad99c",
   "metadata": {},
   "outputs": [],
   "source": [
    "import pandas as pd\n",
    "fig, ax = plt.subplots(2, 2, sharex = True, sharey = True)\n",
    "ax1 = pd.Series([0,0,1,1])\n",
    "ax2 = pd.Series([0,1,0,1])\n",
    "for i in range(len(labs)):\n",
    "    price = data3['price'][data3['level5']==labs[i]]\n",
    "    price_norm = (price - price.mean())/price.std()\n",
    "    ax[ax1[i],ax2[i]].hist(price_norm)\n",
    "plt.show()"
   ]
  },
  {
   "cell_type": "markdown",
   "id": "2ec1bd5c",
   "metadata": {},
   "source": [
    "#### Make a plot of the coordinates (lat and long) of the south belt of Madrid by color of each population (★★★★) \n",
    "This is a extremely hard exercise and we highly recommend to do it at the end of everything"
   ]
  },
  {
   "cell_type": "code",
   "execution_count": null,
   "id": "312aac99",
   "metadata": {},
   "outputs": [],
   "source": [
    "# Run in console the following command before run the rest of code:\n",
    "# jupyter nbextension enable --py --sys-prefix ipyleaflet\n",
    "\n",
    "from ipyleaflet import Map, basemaps\n",
    "\n",
    "# Map centred on (60 degrees latitude et -2.2 degrees longitude)\n",
    "# Latitude, longitude\n",
    "map = Map(center = (60, -2.2), zoom = 2, min_zoom = 1, max_zoom = 20, \n",
    "    basemap=basemaps.Stamen.Terrain)\n",
    "map"
   ]
  },
  {
   "cell_type": "code",
   "execution_count": null,
   "id": "e8bd55f9",
   "metadata": {},
   "outputs": [],
   "source": [
    "### trabajo con coordenadas\n",
    "\n",
    "#print(data3.head()) # verifico que exista latitud y longitud\n",
    "#data3[['longitude', 'latitude']].describe() # verifico valores de las coordenadas\n",
    "#print(sum(data3['longitude'] == 0)) # 10 casos con longitud 0\n",
    "#print(sum(data3['latitude'] == 0)) # 10 casos con latitud 0\n",
    "data3b = data3[data3['latitude'] != 0] # creo nuevo data frame sin puntos en (0,0)\n",
    "data3b[['longitude', 'latitude']].describe() # no hay mas ceros\n",
    "\n",
    "### busco coordenadas promedio para centrar mapa\n",
    "\n",
    "medias_coord = data3b[['latitude', 'longitude']].mean()\n",
    "print(medias_coord)\n",
    "\n",
    "### mapeo centrando en esas coordenadas\n",
    "\n",
    "map = Map(center = (medias_coord[0], medias_coord[1]), zoom = 5, \n",
    "    basemap=basemaps.Stamen.Terrain)\n",
    "map\n",
    "\n",
    "### la idea era agregarle los puntos a este mapa interactivo, pero no lo pude terminar. Lo resuelvo como una imagen en siguiente chunk"
   ]
  },
  {
   "cell_type": "code",
   "execution_count": null,
   "id": "f7931ec0",
   "metadata": {},
   "outputs": [],
   "source": [
    "## defino otro data frame sin coordenadas (0,0)\n",
    "\n",
    "data3b = data3[data3['latitude'] != 0] # creo nuevo data frame sin puntos en (0,0)\n",
    "data3b[['longitude', 'latitude']].describe() # no hay mas ceros\n",
    "\n",
    "# initialize an axis\n",
    "fig, ax = plt.subplots(figsize=(8,6))\n",
    "\n",
    "## grafico definiendo un color para cada level5\n",
    "aux = data3b['level5'].map({'Fuenlabrada':'red','Leganés':'blue','Getafe':'green','Alcorcón':'pink'})\n",
    "data3b.plot(x=\"longitude\", y=\"latitude\", kind=\"scatter\",c=aux,ax=ax)\n",
    "\n",
    "# add grid\n",
    "ax.grid(b=True, alpha=0.5)\n",
    "plt.show()\n"
   ]
  },
  {
   "cell_type": "markdown",
   "id": "b22874b7",
   "metadata": {},
   "source": [
    "#### What can you say about the price per square meter between the towns of Getafe and Alcorcón?"
   ]
  },
  {
   "cell_type": "code",
   "execution_count": null,
   "id": "e0ef506b",
   "metadata": {},
   "outputs": [],
   "source": [
    "aux = data3[['price','surface','level5']] # data frame auxiliar\n",
    "aux = aux[aux['price']>0]\n",
    "print(aux.shape)\n",
    "aux['price_m2'] = aux['price']/aux['surface']\n",
    "#print(aux['price_m2'].describe()) # para chequear valores\n",
    "aux[['price_m2','level5']].groupby('level5').describe()\n",
    "\n",
    "# el precio por metro cuadrado en Alcorcón en superior en promedio al de Getafe"
   ]
  },
  {
   "cell_type": "markdown",
   "id": "a4376b3f",
   "metadata": {},
   "source": [
    "#### Reload the data, is the average of \"Valdemorillo\" and \"Galapagar\" prices the same?"
   ]
  },
  {
   "cell_type": "code",
   "execution_count": null,
   "id": "37dbaf65",
   "metadata": {},
   "outputs": [],
   "source": [
    "aux = data2[['price','surface','level5']] # data frame auxiliar\n",
    "aux = aux[aux['price']>0]\n",
    "aux = aux[aux['level5'].isin(['Valdemorillo','Galapagar'])]\n",
    "print(aux.shape)\n",
    "aux[['price','level5']].groupby('level5').describe()\n",
    "\n",
    "# sin considerar precios 0, en promedio ambas distribuciones son muy parecidas, inclusive el promedio y la mediana"
   ]
  },
  {
   "cell_type": "markdown",
   "id": "b6af45ec",
   "metadata": {},
   "source": [
    "#### What happens if we do the same analysis for price/m2 (★★☆) "
   ]
  },
  {
   "cell_type": "code",
   "execution_count": null,
   "id": "8231d73e",
   "metadata": {},
   "outputs": [],
   "source": [
    "aux = data2[['price','surface','level5']] # data frame auxiliar\n",
    "aux = aux[aux['price']>0]\n",
    "aux = aux[aux['level5'].isin(['Valdemorillo','Galapagar'])]\n",
    "print(aux.shape)\n",
    "aux['price_m2'] = aux['price']/aux['surface']\n",
    "aux[['price_m2','level5']].groupby('level5').describe()\n",
    "\n",
    "# en el caso del precio por metro cuadrado, se puede observar que en Valdemorillo el promedio es menor que en Galapagar"
   ]
  },
  {
   "cell_type": "markdown",
   "id": "2d40e202",
   "metadata": {},
   "source": [
    "#### Could you say there is a relation between surface and price? (★★☆) \n",
    "Hint: make a scatter plot."
   ]
  },
  {
   "cell_type": "code",
   "execution_count": 52,
   "id": "405462e1",
   "metadata": {},
   "outputs": [
    {
     "name": "stderr",
     "output_type": "stream",
     "text": [
      "/tmp/ipykernel_1050/4206103419.py:8: SettingWithCopyWarning: \n",
      "A value is trying to be set on a copy of a slice from a DataFrame\n",
      "\n",
      "See the caveats in the documentation: https://pandas.pydata.org/pandas-docs/stable/user_guide/indexing.html#returning-a-view-versus-a-copy\n",
      "  aux['surface_rng'][aux['surface'] > 100] = '100_200'\n",
      "/tmp/ipykernel_1050/4206103419.py:9: SettingWithCopyWarning: \n",
      "A value is trying to be set on a copy of a slice from a DataFrame\n",
      "\n",
      "See the caveats in the documentation: https://pandas.pydata.org/pandas-docs/stable/user_guide/indexing.html#returning-a-view-versus-a-copy\n",
      "  aux['surface_rng'][aux['surface'] > 200] = '200+'\n"
     ]
    },
    {
     "ename": "AttributeError",
     "evalue": "'Figure' object has no property 'nrow'",
     "output_type": "error",
     "traceback": [
      "\u001b[0;31m---------------------------------------------------------------------------\u001b[0m",
      "\u001b[0;31mAttributeError\u001b[0m                            Traceback (most recent call last)",
      "\u001b[1;32m/workspace/realestate-datacleanup-exercise/project.ipynb Cell 41'\u001b[0m in \u001b[0;36m<cell line: 11>\u001b[0;34m()\u001b[0m\n\u001b[1;32m      <a href='vscode-notebook-cell://4geeksacade-realestated-b2d7x9y8nxl.ws-us46.gitpod.io/workspace/realestate-datacleanup-exercise/project.ipynb#ch0000040vscode-remote?line=7'>8</a>\u001b[0m aux[\u001b[39m'\u001b[39m\u001b[39msurface_rng\u001b[39m\u001b[39m'\u001b[39m][aux[\u001b[39m'\u001b[39m\u001b[39msurface\u001b[39m\u001b[39m'\u001b[39m] \u001b[39m>\u001b[39m \u001b[39m100\u001b[39m] \u001b[39m=\u001b[39m \u001b[39m'\u001b[39m\u001b[39m100_200\u001b[39m\u001b[39m'\u001b[39m\n\u001b[1;32m      <a href='vscode-notebook-cell://4geeksacade-realestated-b2d7x9y8nxl.ws-us46.gitpod.io/workspace/realestate-datacleanup-exercise/project.ipynb#ch0000040vscode-remote?line=8'>9</a>\u001b[0m aux[\u001b[39m'\u001b[39m\u001b[39msurface_rng\u001b[39m\u001b[39m'\u001b[39m][aux[\u001b[39m'\u001b[39m\u001b[39msurface\u001b[39m\u001b[39m'\u001b[39m] \u001b[39m>\u001b[39m \u001b[39m200\u001b[39m] \u001b[39m=\u001b[39m \u001b[39m'\u001b[39m\u001b[39m200+\u001b[39m\u001b[39m'\u001b[39m\n\u001b[0;32m---> <a href='vscode-notebook-cell://4geeksacade-realestated-b2d7x9y8nxl.ws-us46.gitpod.io/workspace/realestate-datacleanup-exercise/project.ipynb#ch0000040vscode-remote?line=10'>11</a>\u001b[0m fig, ax \u001b[39m=\u001b[39m plt\u001b[39m.\u001b[39;49msubplots(nrow \u001b[39m=\u001b[39;49m \u001b[39m2\u001b[39;49m, ncol \u001b[39m=\u001b[39;49m \u001b[39m1\u001b[39;49m, figsize \u001b[39m=\u001b[39;49m (\u001b[39m15\u001b[39;49m,\u001b[39m15\u001b[39;49m))\n\u001b[1;32m     <a href='vscode-notebook-cell://4geeksacade-realestated-b2d7x9y8nxl.ws-us46.gitpod.io/workspace/realestate-datacleanup-exercise/project.ipynb#ch0000040vscode-remote?line=11'>12</a>\u001b[0m aux\u001b[39m.\u001b[39mplot\u001b[39m.\u001b[39mscatter(x \u001b[39m=\u001b[39m \u001b[39m'\u001b[39m\u001b[39msurface\u001b[39m\u001b[39m'\u001b[39m, y \u001b[39m=\u001b[39m \u001b[39m'\u001b[39m\u001b[39mprice\u001b[39m\u001b[39m'\u001b[39m, ax \u001b[39m=\u001b[39m ax[\u001b[39m0\u001b[39m])\n\u001b[1;32m     <a href='vscode-notebook-cell://4geeksacade-realestated-b2d7x9y8nxl.ws-us46.gitpod.io/workspace/realestate-datacleanup-exercise/project.ipynb#ch0000040vscode-remote?line=12'>13</a>\u001b[0m aux\u001b[39m.\u001b[39mboxplot(column \u001b[39m=\u001b[39m \u001b[39m'\u001b[39m\u001b[39mprice\u001b[39m\u001b[39m'\u001b[39m, by \u001b[39m=\u001b[39m \u001b[39m'\u001b[39m\u001b[39msurface_rng\u001b[39m\u001b[39m'\u001b[39m, ax \u001b[39m=\u001b[39m ax[\u001b[39m1\u001b[39m])\n",
      "File \u001b[0;32m~/.pyenv/versions/3.8.13/lib/python3.8/site-packages/matplotlib/pyplot.py:1455\u001b[0m, in \u001b[0;36msubplots\u001b[0;34m(nrows, ncols, sharex, sharey, squeeze, subplot_kw, gridspec_kw, **fig_kw)\u001b[0m\n\u001b[1;32m   <a href='file:///home/gitpod/.pyenv/versions/3.8.13/lib/python3.8/site-packages/matplotlib/pyplot.py?line=1320'>1321</a>\u001b[0m \u001b[39mdef\u001b[39;00m \u001b[39msubplots\u001b[39m(nrows\u001b[39m=\u001b[39m\u001b[39m1\u001b[39m, ncols\u001b[39m=\u001b[39m\u001b[39m1\u001b[39m, \u001b[39m*\u001b[39m, sharex\u001b[39m=\u001b[39m\u001b[39mFalse\u001b[39;00m, sharey\u001b[39m=\u001b[39m\u001b[39mFalse\u001b[39;00m, squeeze\u001b[39m=\u001b[39m\u001b[39mTrue\u001b[39;00m,\n\u001b[1;32m   <a href='file:///home/gitpod/.pyenv/versions/3.8.13/lib/python3.8/site-packages/matplotlib/pyplot.py?line=1321'>1322</a>\u001b[0m              subplot_kw\u001b[39m=\u001b[39m\u001b[39mNone\u001b[39;00m, gridspec_kw\u001b[39m=\u001b[39m\u001b[39mNone\u001b[39;00m, \u001b[39m*\u001b[39m\u001b[39m*\u001b[39mfig_kw):\n\u001b[1;32m   <a href='file:///home/gitpod/.pyenv/versions/3.8.13/lib/python3.8/site-packages/matplotlib/pyplot.py?line=1322'>1323</a>\u001b[0m     \u001b[39m\"\"\"\u001b[39;00m\n\u001b[1;32m   <a href='file:///home/gitpod/.pyenv/versions/3.8.13/lib/python3.8/site-packages/matplotlib/pyplot.py?line=1323'>1324</a>\u001b[0m \u001b[39m    Create a figure and a set of subplots.\u001b[39;00m\n\u001b[1;32m   <a href='file:///home/gitpod/.pyenv/versions/3.8.13/lib/python3.8/site-packages/matplotlib/pyplot.py?line=1324'>1325</a>\u001b[0m \n\u001b[0;32m   (...)\u001b[0m\n\u001b[1;32m   <a href='file:///home/gitpod/.pyenv/versions/3.8.13/lib/python3.8/site-packages/matplotlib/pyplot.py?line=1452'>1453</a>\u001b[0m \n\u001b[1;32m   <a href='file:///home/gitpod/.pyenv/versions/3.8.13/lib/python3.8/site-packages/matplotlib/pyplot.py?line=1453'>1454</a>\u001b[0m \u001b[39m    \"\"\"\u001b[39;00m\n\u001b[0;32m-> <a href='file:///home/gitpod/.pyenv/versions/3.8.13/lib/python3.8/site-packages/matplotlib/pyplot.py?line=1454'>1455</a>\u001b[0m     fig \u001b[39m=\u001b[39m figure(\u001b[39m*\u001b[39;49m\u001b[39m*\u001b[39;49mfig_kw)\n\u001b[1;32m   <a href='file:///home/gitpod/.pyenv/versions/3.8.13/lib/python3.8/site-packages/matplotlib/pyplot.py?line=1455'>1456</a>\u001b[0m     axs \u001b[39m=\u001b[39m fig\u001b[39m.\u001b[39msubplots(nrows\u001b[39m=\u001b[39mnrows, ncols\u001b[39m=\u001b[39mncols, sharex\u001b[39m=\u001b[39msharex, sharey\u001b[39m=\u001b[39msharey,\n\u001b[1;32m   <a href='file:///home/gitpod/.pyenv/versions/3.8.13/lib/python3.8/site-packages/matplotlib/pyplot.py?line=1456'>1457</a>\u001b[0m                        squeeze\u001b[39m=\u001b[39msqueeze, subplot_kw\u001b[39m=\u001b[39msubplot_kw,\n\u001b[1;32m   <a href='file:///home/gitpod/.pyenv/versions/3.8.13/lib/python3.8/site-packages/matplotlib/pyplot.py?line=1457'>1458</a>\u001b[0m                        gridspec_kw\u001b[39m=\u001b[39mgridspec_kw)\n\u001b[1;32m   <a href='file:///home/gitpod/.pyenv/versions/3.8.13/lib/python3.8/site-packages/matplotlib/pyplot.py?line=1458'>1459</a>\u001b[0m     \u001b[39mreturn\u001b[39;00m fig, axs\n",
      "File \u001b[0;32m~/.pyenv/versions/3.8.13/lib/python3.8/site-packages/matplotlib/pyplot.py:808\u001b[0m, in \u001b[0;36mfigure\u001b[0;34m(num, figsize, dpi, facecolor, edgecolor, frameon, FigureClass, clear, **kwargs)\u001b[0m\n\u001b[1;32m    <a href='file:///home/gitpod/.pyenv/versions/3.8.13/lib/python3.8/site-packages/matplotlib/pyplot.py?line=798'>799</a>\u001b[0m \u001b[39mif\u001b[39;00m \u001b[39mlen\u001b[39m(allnums) \u001b[39m==\u001b[39m max_open_warning \u001b[39m>\u001b[39m\u001b[39m=\u001b[39m \u001b[39m1\u001b[39m:\n\u001b[1;32m    <a href='file:///home/gitpod/.pyenv/versions/3.8.13/lib/python3.8/site-packages/matplotlib/pyplot.py?line=799'>800</a>\u001b[0m     _api\u001b[39m.\u001b[39mwarn_external(\n\u001b[1;32m    <a href='file:///home/gitpod/.pyenv/versions/3.8.13/lib/python3.8/site-packages/matplotlib/pyplot.py?line=800'>801</a>\u001b[0m         \u001b[39mf\u001b[39m\u001b[39m\"\u001b[39m\u001b[39mMore than \u001b[39m\u001b[39m{\u001b[39;00mmax_open_warning\u001b[39m}\u001b[39;00m\u001b[39m figures have been opened. \u001b[39m\u001b[39m\"\u001b[39m\n\u001b[1;32m    <a href='file:///home/gitpod/.pyenv/versions/3.8.13/lib/python3.8/site-packages/matplotlib/pyplot.py?line=801'>802</a>\u001b[0m         \u001b[39mf\u001b[39m\u001b[39m\"\u001b[39m\u001b[39mFigures created through the pyplot interface \u001b[39m\u001b[39m\"\u001b[39m\n\u001b[0;32m   (...)\u001b[0m\n\u001b[1;32m    <a href='file:///home/gitpod/.pyenv/versions/3.8.13/lib/python3.8/site-packages/matplotlib/pyplot.py?line=804'>805</a>\u001b[0m         \u001b[39mf\u001b[39m\u001b[39m\"\u001b[39m\u001b[39mwarning, see the rcParam `figure.max_open_warning`).\u001b[39m\u001b[39m\"\u001b[39m,\n\u001b[1;32m    <a href='file:///home/gitpod/.pyenv/versions/3.8.13/lib/python3.8/site-packages/matplotlib/pyplot.py?line=805'>806</a>\u001b[0m         \u001b[39mRuntimeWarning\u001b[39;00m)\n\u001b[0;32m--> <a href='file:///home/gitpod/.pyenv/versions/3.8.13/lib/python3.8/site-packages/matplotlib/pyplot.py?line=807'>808</a>\u001b[0m manager \u001b[39m=\u001b[39m new_figure_manager(\n\u001b[1;32m    <a href='file:///home/gitpod/.pyenv/versions/3.8.13/lib/python3.8/site-packages/matplotlib/pyplot.py?line=808'>809</a>\u001b[0m     num, figsize\u001b[39m=\u001b[39;49mfigsize, dpi\u001b[39m=\u001b[39;49mdpi,\n\u001b[1;32m    <a href='file:///home/gitpod/.pyenv/versions/3.8.13/lib/python3.8/site-packages/matplotlib/pyplot.py?line=809'>810</a>\u001b[0m     facecolor\u001b[39m=\u001b[39;49mfacecolor, edgecolor\u001b[39m=\u001b[39;49medgecolor, frameon\u001b[39m=\u001b[39;49mframeon,\n\u001b[1;32m    <a href='file:///home/gitpod/.pyenv/versions/3.8.13/lib/python3.8/site-packages/matplotlib/pyplot.py?line=810'>811</a>\u001b[0m     FigureClass\u001b[39m=\u001b[39;49mFigureClass, \u001b[39m*\u001b[39;49m\u001b[39m*\u001b[39;49mkwargs)\n\u001b[1;32m    <a href='file:///home/gitpod/.pyenv/versions/3.8.13/lib/python3.8/site-packages/matplotlib/pyplot.py?line=811'>812</a>\u001b[0m fig \u001b[39m=\u001b[39m manager\u001b[39m.\u001b[39mcanvas\u001b[39m.\u001b[39mfigure\n\u001b[1;32m    <a href='file:///home/gitpod/.pyenv/versions/3.8.13/lib/python3.8/site-packages/matplotlib/pyplot.py?line=812'>813</a>\u001b[0m \u001b[39mif\u001b[39;00m fig_label:\n",
      "File \u001b[0;32m~/.pyenv/versions/3.8.13/lib/python3.8/site-packages/matplotlib/pyplot.py:327\u001b[0m, in \u001b[0;36mnew_figure_manager\u001b[0;34m(*args, **kwargs)\u001b[0m\n\u001b[1;32m    <a href='file:///home/gitpod/.pyenv/versions/3.8.13/lib/python3.8/site-packages/matplotlib/pyplot.py?line=324'>325</a>\u001b[0m \u001b[39m\"\"\"Create a new figure manager instance.\"\"\"\u001b[39;00m\n\u001b[1;32m    <a href='file:///home/gitpod/.pyenv/versions/3.8.13/lib/python3.8/site-packages/matplotlib/pyplot.py?line=325'>326</a>\u001b[0m _warn_if_gui_out_of_main_thread()\n\u001b[0;32m--> <a href='file:///home/gitpod/.pyenv/versions/3.8.13/lib/python3.8/site-packages/matplotlib/pyplot.py?line=326'>327</a>\u001b[0m \u001b[39mreturn\u001b[39;00m _get_backend_mod()\u001b[39m.\u001b[39;49mnew_figure_manager(\u001b[39m*\u001b[39;49margs, \u001b[39m*\u001b[39;49m\u001b[39m*\u001b[39;49mkwargs)\n",
      "File \u001b[0;32m~/.pyenv/versions/3.8.13/lib/python3.8/site-packages/matplotlib/backend_bases.py:3493\u001b[0m, in \u001b[0;36m_Backend.new_figure_manager\u001b[0;34m(cls, num, *args, **kwargs)\u001b[0m\n\u001b[1;32m   <a href='file:///home/gitpod/.pyenv/versions/3.8.13/lib/python3.8/site-packages/matplotlib/backend_bases.py?line=3490'>3491</a>\u001b[0m \u001b[39mfrom\u001b[39;00m \u001b[39mmatplotlib\u001b[39;00m\u001b[39m.\u001b[39;00m\u001b[39mfigure\u001b[39;00m \u001b[39mimport\u001b[39;00m Figure\n\u001b[1;32m   <a href='file:///home/gitpod/.pyenv/versions/3.8.13/lib/python3.8/site-packages/matplotlib/backend_bases.py?line=3491'>3492</a>\u001b[0m fig_cls \u001b[39m=\u001b[39m kwargs\u001b[39m.\u001b[39mpop(\u001b[39m'\u001b[39m\u001b[39mFigureClass\u001b[39m\u001b[39m'\u001b[39m, Figure)\n\u001b[0;32m-> <a href='file:///home/gitpod/.pyenv/versions/3.8.13/lib/python3.8/site-packages/matplotlib/backend_bases.py?line=3492'>3493</a>\u001b[0m fig \u001b[39m=\u001b[39m fig_cls(\u001b[39m*\u001b[39;49margs, \u001b[39m*\u001b[39;49m\u001b[39m*\u001b[39;49mkwargs)\n\u001b[1;32m   <a href='file:///home/gitpod/.pyenv/versions/3.8.13/lib/python3.8/site-packages/matplotlib/backend_bases.py?line=3493'>3494</a>\u001b[0m \u001b[39mreturn\u001b[39;00m \u001b[39mcls\u001b[39m\u001b[39m.\u001b[39mnew_figure_manager_given_figure(num, fig)\n",
      "File \u001b[0;32m~/.pyenv/versions/3.8.13/lib/python3.8/site-packages/matplotlib/figure.py:2292\u001b[0m, in \u001b[0;36mFigure.__init__\u001b[0;34m(self, figsize, dpi, facecolor, edgecolor, linewidth, frameon, subplotpars, tight_layout, constrained_layout, layout, **kwargs)\u001b[0m\n\u001b[1;32m   <a href='file:///home/gitpod/.pyenv/versions/3.8.13/lib/python3.8/site-packages/matplotlib/figure.py?line=2207'>2208</a>\u001b[0m \u001b[39mdef\u001b[39;00m \u001b[39m__init__\u001b[39m(\u001b[39mself\u001b[39m,\n\u001b[1;32m   <a href='file:///home/gitpod/.pyenv/versions/3.8.13/lib/python3.8/site-packages/matplotlib/figure.py?line=2208'>2209</a>\u001b[0m              figsize\u001b[39m=\u001b[39m\u001b[39mNone\u001b[39;00m,\n\u001b[1;32m   <a href='file:///home/gitpod/.pyenv/versions/3.8.13/lib/python3.8/site-packages/matplotlib/figure.py?line=2209'>2210</a>\u001b[0m              dpi\u001b[39m=\u001b[39m\u001b[39mNone\u001b[39;00m,\n\u001b[0;32m   (...)\u001b[0m\n\u001b[1;32m   <a href='file:///home/gitpod/.pyenv/versions/3.8.13/lib/python3.8/site-packages/matplotlib/figure.py?line=2219'>2220</a>\u001b[0m              \u001b[39m*\u001b[39m\u001b[39m*\u001b[39mkwargs\n\u001b[1;32m   <a href='file:///home/gitpod/.pyenv/versions/3.8.13/lib/python3.8/site-packages/matplotlib/figure.py?line=2220'>2221</a>\u001b[0m              ):\n\u001b[1;32m   <a href='file:///home/gitpod/.pyenv/versions/3.8.13/lib/python3.8/site-packages/matplotlib/figure.py?line=2221'>2222</a>\u001b[0m     \u001b[39m\"\"\"\u001b[39;00m\n\u001b[1;32m   <a href='file:///home/gitpod/.pyenv/versions/3.8.13/lib/python3.8/site-packages/matplotlib/figure.py?line=2222'>2223</a>\u001b[0m \u001b[39m    Parameters\u001b[39;00m\n\u001b[1;32m   <a href='file:///home/gitpod/.pyenv/versions/3.8.13/lib/python3.8/site-packages/matplotlib/figure.py?line=2223'>2224</a>\u001b[0m \u001b[39m    ----------\u001b[39;00m\n\u001b[0;32m   (...)\u001b[0m\n\u001b[1;32m   <a href='file:///home/gitpod/.pyenv/versions/3.8.13/lib/python3.8/site-packages/matplotlib/figure.py?line=2289'>2290</a>\u001b[0m \u001b[39m        %(Figure:kwdoc)s\u001b[39;00m\n\u001b[1;32m   <a href='file:///home/gitpod/.pyenv/versions/3.8.13/lib/python3.8/site-packages/matplotlib/figure.py?line=2290'>2291</a>\u001b[0m \u001b[39m    \"\"\"\u001b[39;00m\n\u001b[0;32m-> <a href='file:///home/gitpod/.pyenv/versions/3.8.13/lib/python3.8/site-packages/matplotlib/figure.py?line=2291'>2292</a>\u001b[0m     \u001b[39msuper\u001b[39;49m()\u001b[39m.\u001b[39;49m\u001b[39m__init__\u001b[39;49m(\u001b[39m*\u001b[39;49m\u001b[39m*\u001b[39;49mkwargs)\n\u001b[1;32m   <a href='file:///home/gitpod/.pyenv/versions/3.8.13/lib/python3.8/site-packages/matplotlib/figure.py?line=2293'>2294</a>\u001b[0m     \u001b[39mif\u001b[39;00m layout \u001b[39mis\u001b[39;00m \u001b[39mnot\u001b[39;00m \u001b[39mNone\u001b[39;00m:\n\u001b[1;32m   <a href='file:///home/gitpod/.pyenv/versions/3.8.13/lib/python3.8/site-packages/matplotlib/figure.py?line=2294'>2295</a>\u001b[0m         \u001b[39mif\u001b[39;00m tight_layout \u001b[39mis\u001b[39;00m \u001b[39mnot\u001b[39;00m \u001b[39mNone\u001b[39;00m:\n",
      "File \u001b[0;32m~/.pyenv/versions/3.8.13/lib/python3.8/site-packages/matplotlib/figure.py:216\u001b[0m, in \u001b[0;36mFigureBase.__init__\u001b[0;34m(self, **kwargs)\u001b[0m\n\u001b[1;32m    <a href='file:///home/gitpod/.pyenv/versions/3.8.13/lib/python3.8/site-packages/matplotlib/figure.py?line=213'>214</a>\u001b[0m \u001b[39mself\u001b[39m\u001b[39m.\u001b[39mstale \u001b[39m=\u001b[39m \u001b[39mTrue\u001b[39;00m\n\u001b[1;32m    <a href='file:///home/gitpod/.pyenv/versions/3.8.13/lib/python3.8/site-packages/matplotlib/figure.py?line=214'>215</a>\u001b[0m \u001b[39mself\u001b[39m\u001b[39m.\u001b[39msuppressComposite \u001b[39m=\u001b[39m \u001b[39mNone\u001b[39;00m\n\u001b[0;32m--> <a href='file:///home/gitpod/.pyenv/versions/3.8.13/lib/python3.8/site-packages/matplotlib/figure.py?line=215'>216</a>\u001b[0m \u001b[39mself\u001b[39;49m\u001b[39m.\u001b[39;49mset(\u001b[39m*\u001b[39;49m\u001b[39m*\u001b[39;49mkwargs)\n",
      "File \u001b[0;32m~/.pyenv/versions/3.8.13/lib/python3.8/site-packages/matplotlib/artist.py:116\u001b[0m, in \u001b[0;36mArtist.__init_subclass__.<locals>.<lambda>\u001b[0;34m(self, **kwargs)\u001b[0m\n\u001b[1;32m    <a href='file:///home/gitpod/.pyenv/versions/3.8.13/lib/python3.8/site-packages/matplotlib/artist.py?line=107'>108</a>\u001b[0m \u001b[39mif\u001b[39;00m \u001b[39mnot\u001b[39;00m \u001b[39mhasattr\u001b[39m(\u001b[39mcls\u001b[39m\u001b[39m.\u001b[39mset, \u001b[39m'\u001b[39m\u001b[39m_autogenerated_signature\u001b[39m\u001b[39m'\u001b[39m):\n\u001b[1;32m    <a href='file:///home/gitpod/.pyenv/versions/3.8.13/lib/python3.8/site-packages/matplotlib/artist.py?line=108'>109</a>\u001b[0m     \u001b[39m# Don't overwrite cls.set if the subclass or one of its parents\u001b[39;00m\n\u001b[1;32m    <a href='file:///home/gitpod/.pyenv/versions/3.8.13/lib/python3.8/site-packages/matplotlib/artist.py?line=109'>110</a>\u001b[0m     \u001b[39m# has defined a set method set itself.\u001b[39;00m\n\u001b[1;32m    <a href='file:///home/gitpod/.pyenv/versions/3.8.13/lib/python3.8/site-packages/matplotlib/artist.py?line=110'>111</a>\u001b[0m     \u001b[39m# If there was no explicit definition, cls.set is inherited from\u001b[39;00m\n\u001b[1;32m    <a href='file:///home/gitpod/.pyenv/versions/3.8.13/lib/python3.8/site-packages/matplotlib/artist.py?line=111'>112</a>\u001b[0m     \u001b[39m# the hierarchy of auto-generated set methods, which hold the\u001b[39;00m\n\u001b[1;32m    <a href='file:///home/gitpod/.pyenv/versions/3.8.13/lib/python3.8/site-packages/matplotlib/artist.py?line=112'>113</a>\u001b[0m     \u001b[39m# flag _autogenerated_signature.\u001b[39;00m\n\u001b[1;32m    <a href='file:///home/gitpod/.pyenv/versions/3.8.13/lib/python3.8/site-packages/matplotlib/artist.py?line=113'>114</a>\u001b[0m     \u001b[39mreturn\u001b[39;00m\n\u001b[0;32m--> <a href='file:///home/gitpod/.pyenv/versions/3.8.13/lib/python3.8/site-packages/matplotlib/artist.py?line=115'>116</a>\u001b[0m \u001b[39mcls\u001b[39m\u001b[39m.\u001b[39mset \u001b[39m=\u001b[39m \u001b[39mlambda\u001b[39;00m \u001b[39mself\u001b[39m, \u001b[39m*\u001b[39m\u001b[39m*\u001b[39mkwargs: Artist\u001b[39m.\u001b[39;49mset(\u001b[39mself\u001b[39;49m, \u001b[39m*\u001b[39;49m\u001b[39m*\u001b[39;49mkwargs)\n\u001b[1;32m    <a href='file:///home/gitpod/.pyenv/versions/3.8.13/lib/python3.8/site-packages/matplotlib/artist.py?line=116'>117</a>\u001b[0m \u001b[39mcls\u001b[39m\u001b[39m.\u001b[39mset\u001b[39m.\u001b[39m\u001b[39m__name__\u001b[39m \u001b[39m=\u001b[39m \u001b[39m\"\u001b[39m\u001b[39mset\u001b[39m\u001b[39m\"\u001b[39m\n\u001b[1;32m    <a href='file:///home/gitpod/.pyenv/versions/3.8.13/lib/python3.8/site-packages/matplotlib/artist.py?line=117'>118</a>\u001b[0m \u001b[39mcls\u001b[39m\u001b[39m.\u001b[39mset\u001b[39m.\u001b[39m\u001b[39m__qualname__\u001b[39m \u001b[39m=\u001b[39m \u001b[39mf\u001b[39m\u001b[39m\"\u001b[39m\u001b[39m{\u001b[39;00m\u001b[39mcls\u001b[39m\u001b[39m.\u001b[39m\u001b[39m__qualname__\u001b[39m\u001b[39m}\u001b[39;00m\u001b[39m.set\u001b[39m\u001b[39m\"\u001b[39m\n",
      "File \u001b[0;32m~/.pyenv/versions/3.8.13/lib/python3.8/site-packages/matplotlib/artist.py:1164\u001b[0m, in \u001b[0;36mArtist.set\u001b[0;34m(self, **kwargs)\u001b[0m\n\u001b[1;32m   <a href='file:///home/gitpod/.pyenv/versions/3.8.13/lib/python3.8/site-packages/matplotlib/artist.py?line=1158'>1159</a>\u001b[0m \u001b[39mdef\u001b[39;00m \u001b[39mset\u001b[39m(\u001b[39mself\u001b[39m, \u001b[39m*\u001b[39m\u001b[39m*\u001b[39mkwargs):\n\u001b[1;32m   <a href='file:///home/gitpod/.pyenv/versions/3.8.13/lib/python3.8/site-packages/matplotlib/artist.py?line=1159'>1160</a>\u001b[0m     \u001b[39m# docstring and signature are auto-generated via\u001b[39;00m\n\u001b[1;32m   <a href='file:///home/gitpod/.pyenv/versions/3.8.13/lib/python3.8/site-packages/matplotlib/artist.py?line=1160'>1161</a>\u001b[0m     \u001b[39m# Artist._update_set_signature_and_docstring() at the end of the\u001b[39;00m\n\u001b[1;32m   <a href='file:///home/gitpod/.pyenv/versions/3.8.13/lib/python3.8/site-packages/matplotlib/artist.py?line=1161'>1162</a>\u001b[0m     \u001b[39m# module.\u001b[39;00m\n\u001b[1;32m   <a href='file:///home/gitpod/.pyenv/versions/3.8.13/lib/python3.8/site-packages/matplotlib/artist.py?line=1162'>1163</a>\u001b[0m     kwargs \u001b[39m=\u001b[39m cbook\u001b[39m.\u001b[39mnormalize_kwargs(kwargs, \u001b[39mself\u001b[39m)\n\u001b[0;32m-> <a href='file:///home/gitpod/.pyenv/versions/3.8.13/lib/python3.8/site-packages/matplotlib/artist.py?line=1163'>1164</a>\u001b[0m     \u001b[39mreturn\u001b[39;00m \u001b[39mself\u001b[39;49m\u001b[39m.\u001b[39;49mupdate(kwargs)\n",
      "File \u001b[0;32m~/.pyenv/versions/3.8.13/lib/python3.8/site-packages/matplotlib/artist.py:1064\u001b[0m, in \u001b[0;36mArtist.update\u001b[0;34m(self, props)\u001b[0m\n\u001b[1;32m   <a href='file:///home/gitpod/.pyenv/versions/3.8.13/lib/python3.8/site-packages/matplotlib/artist.py?line=1061'>1062</a>\u001b[0m             func \u001b[39m=\u001b[39m \u001b[39mgetattr\u001b[39m(\u001b[39mself\u001b[39m, \u001b[39mf\u001b[39m\u001b[39m\"\u001b[39m\u001b[39mset_\u001b[39m\u001b[39m{\u001b[39;00mk\u001b[39m}\u001b[39;00m\u001b[39m\"\u001b[39m, \u001b[39mNone\u001b[39;00m)\n\u001b[1;32m   <a href='file:///home/gitpod/.pyenv/versions/3.8.13/lib/python3.8/site-packages/matplotlib/artist.py?line=1062'>1063</a>\u001b[0m             \u001b[39mif\u001b[39;00m \u001b[39mnot\u001b[39;00m callable(func):\n\u001b[0;32m-> <a href='file:///home/gitpod/.pyenv/versions/3.8.13/lib/python3.8/site-packages/matplotlib/artist.py?line=1063'>1064</a>\u001b[0m                 \u001b[39mraise\u001b[39;00m \u001b[39mAttributeError\u001b[39;00m(\u001b[39mf\u001b[39m\u001b[39m\"\u001b[39m\u001b[39m{\u001b[39;00m\u001b[39mtype\u001b[39m(\u001b[39mself\u001b[39m)\u001b[39m.\u001b[39m\u001b[39m__name__\u001b[39m\u001b[39m!r}\u001b[39;00m\u001b[39m object \u001b[39m\u001b[39m\"\u001b[39m\n\u001b[1;32m   <a href='file:///home/gitpod/.pyenv/versions/3.8.13/lib/python3.8/site-packages/matplotlib/artist.py?line=1064'>1065</a>\u001b[0m                                      \u001b[39mf\u001b[39m\u001b[39m\"\u001b[39m\u001b[39mhas no property \u001b[39m\u001b[39m{\u001b[39;00mk\u001b[39m!r}\u001b[39;00m\u001b[39m\"\u001b[39m)\n\u001b[1;32m   <a href='file:///home/gitpod/.pyenv/versions/3.8.13/lib/python3.8/site-packages/matplotlib/artist.py?line=1065'>1066</a>\u001b[0m             ret\u001b[39m.\u001b[39mappend(func(v))\n\u001b[1;32m   <a href='file:///home/gitpod/.pyenv/versions/3.8.13/lib/python3.8/site-packages/matplotlib/artist.py?line=1066'>1067</a>\u001b[0m \u001b[39mif\u001b[39;00m ret:\n",
      "\u001b[0;31mAttributeError\u001b[0m: 'Figure' object has no property 'nrow'"
     ]
    }
   ],
   "source": [
    "# data frame auxiliar\n",
    "aux = data2[['surface', 'price']]\n",
    "aux = aux[aux['price'] > 0]\n",
    "aux = aux[aux['surface'] < 300]\n",
    "\n",
    "# rangos de superficie\n",
    "aux['surface_rng'] = '0_100'\n",
    "aux['surface_rng'][aux['surface'] > 100] = '100_200'\n",
    "aux['surface_rng'][aux['surface'] > 200] = '200+'\n",
    "\n",
    "#### QUIERO GRAFICAR AMBOS JUNTOS Y NO ME QUEDA BIEN\n",
    "\n",
    "#fig, ax = plt.subplots(nrow = 2, ncol = 1, figsize = (15,15))\n",
    "#aux.plot.scatter(x = 'surface', y = 'price', ax = ax[0])\n",
    "#aux.boxplot(column = 'price', by = 'surface_rng', ax = ax[1])\n",
    "#plt.show()\n"
   ]
  },
  {
   "cell_type": "code",
   "execution_count": 53,
   "id": "fe6cf274",
   "metadata": {},
   "outputs": [
    {
     "name": "stderr",
     "output_type": "stream",
     "text": [
      "/tmp/ipykernel_1050/359002896.py:8: SettingWithCopyWarning: \n",
      "A value is trying to be set on a copy of a slice from a DataFrame\n",
      "\n",
      "See the caveats in the documentation: https://pandas.pydata.org/pandas-docs/stable/user_guide/indexing.html#returning-a-view-versus-a-copy\n",
      "  aux['surface_rng'][aux['surface'] > 100] = '100_200'\n",
      "/tmp/ipykernel_1050/359002896.py:9: SettingWithCopyWarning: \n",
      "A value is trying to be set on a copy of a slice from a DataFrame\n",
      "\n",
      "See the caveats in the documentation: https://pandas.pydata.org/pandas-docs/stable/user_guide/indexing.html#returning-a-view-versus-a-copy\n",
      "  aux['surface_rng'][aux['surface'] > 200] = '200+'\n"
     ]
    },
    {
     "data": {
      "text/plain": [
       "<AxesSubplot:xlabel='surface', ylabel='price'>"
      ]
     },
     "execution_count": 53,
     "metadata": {},
     "output_type": "execute_result"
    },
    {
     "data": {
      "image/png": "[encoded data removed]",
      "text/plain": [
       "<Figure size 432x288 with 1 Axes>"
      ]
     },
     "metadata": {
      "needs_background": "light"
     },
     "output_type": "display_data"
    }
   ],
   "source": [
    "# data frame auxiliar\n",
    "aux = data2[['surface', 'price']]\n",
    "aux = aux[aux['price'] > 0]\n",
    "aux = aux[aux['surface'] < 300]\n",
    "\n",
    "aux.plot.scatter(x = 'surface', y = 'price')\n",
    "\n",
    "# si, a mayor superficie mayor precio, aunque también aumenta la variabilidad del mismo"
   ]
  },
  {
   "cell_type": "code",
   "execution_count": 54,
   "id": "6e509abc",
   "metadata": {},
   "outputs": [
    {
     "name": "stderr",
     "output_type": "stream",
     "text": [
      "/tmp/ipykernel_1050/795251586.py:3: SettingWithCopyWarning: \n",
      "A value is trying to be set on a copy of a slice from a DataFrame\n",
      "\n",
      "See the caveats in the documentation: https://pandas.pydata.org/pandas-docs/stable/user_guide/indexing.html#returning-a-view-versus-a-copy\n",
      "  aux['surface_rng'][aux['surface'] > 100] = '100_200'\n",
      "/tmp/ipykernel_1050/795251586.py:4: SettingWithCopyWarning: \n",
      "A value is trying to be set on a copy of a slice from a DataFrame\n",
      "\n",
      "See the caveats in the documentation: https://pandas.pydata.org/pandas-docs/stable/user_guide/indexing.html#returning-a-view-versus-a-copy\n",
      "  aux['surface_rng'][aux['surface'] > 200] = '200+'\n"
     ]
    },
    {
     "data": {
      "text/plain": [
       "<AxesSubplot:title={'center':'price'}, xlabel='surface_rng'>"
      ]
     },
     "execution_count": 54,
     "metadata": {},
     "output_type": "execute_result"
    },
    {
     "data": {
      "image/png": "[encoded data removed]",
      "text/plain": [
       "<Figure size 432x288 with 1 Axes>"
      ]
     },
     "metadata": {
      "needs_background": "light"
     },
     "output_type": "display_data"
    }
   ],
   "source": [
    "# rangos de superficie\n",
    "aux['surface_rng'] = '0_100'\n",
    "aux['surface_rng'][aux['surface'] > 100] = '100_200'\n",
    "aux['surface_rng'][aux['surface'] > 200] = '200+'\n",
    "\n",
    "# agrego este grafico para visualizar la variablidiad del precio en funcion de rango de superficie\n",
    "aux.boxplot(column = 'price', by = 'surface_rng')"
   ]
  },
  {
   "cell_type": "markdown",
   "id": "3275db77",
   "metadata": {},
   "source": [
    "#### Make the same plot for 4 different populations (level5) and rearrange them on the same graph? (★★☆) \n",
    "Hint: make a scatter plot of each population using subplots."
   ]
  },
  {
   "cell_type": "code",
   "execution_count": 62,
   "id": "e08292ff",
   "metadata": {},
   "outputs": [
    {
     "data": {
      "image/png": "[encoded data removed]",
      "text/plain": [
       "<Figure size 432x288 with 4 Axes>"
      ]
     },
     "metadata": {
      "needs_background": "light"
     },
     "output_type": "display_data"
    }
   ],
   "source": [
    "# utilizo el data frame data3 creado previamente filtrando precio 0 y superficie hasta 300\n",
    "aux = data3[['surface', 'price', 'level5']]\n",
    "aux = aux[aux['price'] > 0]\n",
    "aux = aux[aux['surface'] < 300]\n",
    "\n",
    "#print(labs) # recuerdo nombres\n",
    "\n",
    "fig, ax = plt.subplots(2, 2, sharex = True, sharey = True)\n",
    "aux[aux['level5'].isin(['Fuenlabrada'])].plot.scatter(x = 'surface', y = 'price', ax = ax[0,0])\n",
    "aux[aux['level5'].isin(['Leganés'])].plot.scatter(x = 'surface', y = 'price', ax = ax[0,1])\n",
    "aux[aux['level5'].isin(['Getafe'])].plot.scatter(x = 'surface', y = 'price', ax = ax[1,0])\n",
    "aux[aux['level5'].isin(['Alcorcón'])].plot.scatter(x = 'surface', y = 'price', ax = ax[1,1])\n",
    "ax[0, 0].set_title('Fuenlabrada')\n",
    "ax[0, 1].set_title('Leganés')\n",
    "ax[1, 0].set_title('Getafe')\n",
    "ax[1, 1].set_title('Alcorcón')\n",
    "plt.show()"
   ]
  },
  {
   "cell_type": "markdown",
   "id": "522c6bd9",
   "metadata": {},
   "source": [
    "#### How many  real estate agencies the dataset contains? (★★☆) "
   ]
  },
  {
   "cell_type": "code",
   "execution_count": 70,
   "id": "014ec6c8",
   "metadata": {},
   "outputs": [
    {
     "name": "stdout",
     "output_type": "stream",
     "text": [
      "engel volkers madrid             421\n",
      "infocasa consulting              291\n",
      "housell                          193\n",
      "vivienda2                        189\n",
      "solvia inmobiliaria              184\n",
      "                                ... \n",
      "inmoversion                        1\n",
      "conviventium                       1\n",
      "cga promociones inmobiliarias      1\n",
      "exclusivas aragon                  1\n",
      "montehogar 68                      1\n",
      "Name: realEstate_name, Length: 1337, dtype: int64\n"
     ]
    }
   ],
   "source": [
    "# lo hago para el data frame sin NAs\n",
    "\n",
    "#print(data2.columns) # recuerdo columnas\n",
    "#print(data2.head())\n",
    "\n",
    "# acá se muestra la frecuencia absoluta de cada agencia, al final figura la cantidad de agencias distintas que es 1337\n",
    "print(data2['realEstate_name'].value_counts())"
   ]
  },
  {
   "cell_type": "markdown",
   "id": "899a101e",
   "metadata": {},
   "source": [
    "#### What is the population (level 5) that contains the most houses? (★★☆) "
   ]
  },
  {
   "cell_type": "code",
   "execution_count": 71,
   "id": "9e8b34ba",
   "metadata": {},
   "outputs": [
    {
     "name": "stdout",
     "output_type": "stream",
     "text": [
      " Madrid Capital               5658\n",
      "Alcalá de Henares              474\n",
      "Las Rozas de Madrid            360\n",
      "Móstoles                       259\n",
      "Parla                          248\n",
      "Alcobendas                     243\n",
      "Boadilla del Monte             242\n",
      "Getafe                         220\n",
      "Torrejón de Ardoz              216\n",
      "Pozuelo de Alarcón             207\n",
      "Valdemoro                      201\n",
      "Fuenlabrada                    182\n",
      "Collado Villalba               179\n",
      "Leganés                        173\n",
      "Alcorcón                       154\n",
      "Villaviciosa de Odón           143\n",
      "Coslada                        140\n",
      "San Sebastián de los Reyes     136\n",
      "Majadahonda                    133\n",
      "Arganda del Rey                130\n",
      "Aranjuez                       127\n",
      "Pinto                          126\n",
      "Arroyomolinos (Madrid)         110\n",
      "Rivas-vaciamadrid              107\n",
      "Navalcarnero                    84\n",
      "Torrelodones                    78\n",
      "San Lorenzo de El Escorial      75\n",
      "Moralzarzal                     74\n",
      "El Escorial                     74\n",
      "Galapagar                       67\n",
      "Villanueva del Pardillo         63\n",
      "Villanueva de la Cañada         56\n",
      "Ciempozuelos                    52\n",
      "Colmenar Viejo                  46\n",
      "Valdemorillo                    46\n",
      "Meco                            46\n",
      "Tres Cantos                     40\n",
      "San Fernando de Henares         31\n",
      "Paracuellos de Jarama           25\n",
      "Name: level5, dtype: int64\n"
     ]
    }
   ],
   "source": [
    "# nuevamente lo hago para el data frame sin NAs\n",
    "print(data2['level5'].value_counts())\n",
    "\n",
    "# de acuerdo a lo que se muestra, sería \"Madrid Capital\""
   ]
  }
 ],
 "metadata": {
  "kernelspec": {
   "display_name": "Python 3.8.13 64-bit ('3.8.13')",
   "language": "python",
   "name": "python3"
  },
  "language_info": {
   "codemirror_mode": {
    "name": "ipython",
    "version": 3
   },
   "file_extension": ".py",
   "mimetype": "text/x-python",
   "name": "python",
   "nbconvert_exporter": "python",
   "pygments_lexer": "ipython3",
   "version": "3.8.13"
  },
  "vscode": {
   "interpreter": {
    "hash": "110cc1dee26208153f2972f08a2ad52b6a56238dc66d48e87fb757ef2996db56"
   }
  }
 },
 "nbformat": 4,
 "nbformat_minor": 5
}
